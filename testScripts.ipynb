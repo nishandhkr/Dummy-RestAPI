{
 "cells": [
  {
   "cell_type": "code",
   "execution_count": 67,
   "metadata": {},
   "outputs": [],
   "source": [
    "import requests as r\n",
    "import json \n",
    "import datetime\n",
    "import statistics\n",
    "import random"
   ]
  },
  {
   "cell_type": "code",
   "execution_count": 21,
   "metadata": {},
   "outputs": [],
   "source": [
    "post = {\n",
    "    'user_id': \"12345678\",\n",
    "    'name': \"sage\",\n",
    "    'review_count': 1,\n",
    "    'cool': 2,\n",
    "}"
   ]
  },
  {
   "cell_type": "code",
   "execution_count": 41,
   "metadata": {},
   "outputs": [
    {
     "name": "stderr",
     "output_type": "stream",
     "text": [
      "/home/houseFly/anaconda3/lib/python3.7/site-packages/ipykernel_launcher.py:7: DeprecationWarning: time.clock has been deprecated in Python 3.3 and will be removed from Python 3.8: use time.perf_counter or time.process_time instead\n",
      "  import sys\n",
      "/home/houseFly/anaconda3/lib/python3.7/site-packages/ipykernel_launcher.py:9: DeprecationWarning: time.clock has been deprecated in Python 3.3 and will be removed from Python 3.8: use time.perf_counter or time.process_time instead\n",
      "  if __name__ == '__main__':\n",
      "/home/houseFly/anaconda3/lib/python3.7/site-packages/ipykernel_launcher.py:11: DeprecationWarning: time.clock has been deprecated in Python 3.3 and will be removed from Python 3.8: use time.perf_counter or time.process_time instead\n",
      "  # This is added back by InteractiveShellApp.init_path()\n",
      "/home/houseFly/anaconda3/lib/python3.7/site-packages/ipykernel_launcher.py:13: DeprecationWarning: time.clock has been deprecated in Python 3.3 and will be removed from Python 3.8: use time.perf_counter or time.process_time instead\n",
      "  del sys.path[0]\n"
     ]
    }
   ],
   "source": [
    "mongoURL= \"http://localhost:3000/api/users/\"\n",
    "postURL = \"http://localhost:5000/api/users/\"\n",
    "\n",
    "\n",
    "response = r.post(url=mongoURL, json=post)\n",
    "array = []\n",
    "InitialTime= time.clock()\n",
    "for i in range(7000, 14000):\n",
    "    start = time.clock()\n",
    "    r.post(url=mongoURL, json=post)\n",
    "    array.append((time.clock() - start)*1000)\n",
    "    post['user_id'] = i\n",
    "FinalTime = time.clock()\n"
   ]
  },
  {
   "cell_type": "code",
   "execution_count": 49,
   "metadata": {},
   "outputs": [
    {
     "name": "stdout",
     "output_type": "stream",
     "text": [
      "15.377999999998337\n",
      "1.9849999999905776\n",
      "7.386074428571421\n"
     ]
    }
   ],
   "source": [
    "insertion7k = max(array)\n",
    "print(max(array))\n",
    "print(min(array))\n",
    "print(statistics.mean(array))"
   ]
  },
  {
   "cell_type": "code",
   "execution_count": 63,
   "metadata": {},
   "outputs": [
    {
     "name": "stderr",
     "output_type": "stream",
     "text": [
      "/home/houseFly/anaconda3/lib/python3.7/site-packages/ipykernel_launcher.py:2: DeprecationWarning: time.clock has been deprecated in Python 3.3 and will be removed from Python 3.8: use time.perf_counter or time.process_time instead\n",
      "  \n",
      "/home/houseFly/anaconda3/lib/python3.7/site-packages/ipykernel_launcher.py:4: DeprecationWarning: time.clock has been deprecated in Python 3.3 and will be removed from Python 3.8: use time.perf_counter or time.process_time instead\n",
      "  after removing the cwd from sys.path.\n",
      "/home/houseFly/anaconda3/lib/python3.7/site-packages/ipykernel_launcher.py:6: DeprecationWarning: time.clock has been deprecated in Python 3.3 and will be removed from Python 3.8: use time.perf_counter or time.process_time instead\n",
      "  \n",
      "/home/houseFly/anaconda3/lib/python3.7/site-packages/ipykernel_launcher.py:8: DeprecationWarning: time.clock has been deprecated in Python 3.3 and will be removed from Python 3.8: use time.perf_counter or time.process_time instead\n",
      "  \n"
     ]
    }
   ],
   "source": [
    "arrayPost = []\n",
    "InitialTimePost= time.clock()\n",
    "for i in range(19000, 26000):\n",
    "    start = time.clock()\n",
    "    r.post(url=\"http://localhost:5000/api/users/\", json=post)\n",
    "    arrayPost.append((time.clock() - start)*1000)\n",
    "    post['user_id'] = i\n",
    "FinalTimePost = time.clock()"
   ]
  },
  {
   "cell_type": "code",
   "execution_count": 81,
   "metadata": {},
   "outputs": [
    {
     "name": "stderr",
     "output_type": "stream",
     "text": [
      "/home/houseFly/anaconda3/lib/python3.7/site-packages/ipykernel_launcher.py:3: DeprecationWarning: time.clock has been deprecated in Python 3.3 and will be removed from Python 3.8: use time.perf_counter or time.process_time instead\n",
      "  This is separate from the ipykernel package so we can avoid doing imports until\n",
      "/home/houseFly/anaconda3/lib/python3.7/site-packages/ipykernel_launcher.py:5: DeprecationWarning: time.clock has been deprecated in Python 3.3 and will be removed from Python 3.8: use time.perf_counter or time.process_time instead\n",
      "  \"\"\"\n",
      "/home/houseFly/anaconda3/lib/python3.7/site-packages/ipykernel_launcher.py:7: DeprecationWarning: time.clock has been deprecated in Python 3.3 and will be removed from Python 3.8: use time.perf_counter or time.process_time instead\n",
      "  import sys\n",
      "/home/houseFly/anaconda3/lib/python3.7/site-packages/ipykernel_launcher.py:9: DeprecationWarning: time.clock has been deprecated in Python 3.3 and will be removed from Python 3.8: use time.perf_counter or time.process_time instead\n",
      "  if __name__ == '__main__':\n"
     ]
    }
   ],
   "source": [
    "#7kgets\n",
    "arrayPost = []\n",
    "InitialTimePost= time.clock()\n",
    "for i in range(19000, 26000):\n",
    "    start = time.clock()\n",
    "    r.get(url=\"http://localhost:5000/api/users/\" + str(random.randint(19000,26000)), json=post)\n",
    "    arrayPost.append((time.clock() - start)*1000)\n",
    "    post['user_id'] = i\n",
    "FinalTimePost = time.clock()"
   ]
  },
  {
   "cell_type": "code",
   "execution_count": 82,
   "metadata": {},
   "outputs": [
    {
     "name": "stdout",
     "output_type": "stream",
     "text": [
      "19.31600000000344\n",
      "1.9100000000094042\n",
      "5.631364571428329\n"
     ]
    }
   ],
   "source": [
    "len(arrayPost)\n",
    "print(max(arrayPost))\n",
    "print(min(arrayPost))\n",
    "print(statistics.mean(arrayPost))"
   ]
  },
  {
   "cell_type": "code",
   "execution_count": 65,
   "metadata": {},
   "outputs": [
    {
     "name": "stdout",
     "output_type": "stream",
     "text": [
      "15.014999999976908\n",
      "2.0020000000045\n",
      "7.723403714285772\n"
     ]
    }
   ],
   "source": [
    "insertion7kPost = max(arrayPost)\n",
    "print(max(arrayPost))\n",
    "print(min(arrayPost))\n",
    "print(statistics.mean(arrayPost))"
   ]
  },
  {
   "cell_type": "code",
   "execution_count": 84,
   "metadata": {},
   "outputs": [
    {
     "name": "stderr",
     "output_type": "stream",
     "text": [
      "/home/houseFly/anaconda3/lib/python3.7/site-packages/ipykernel_launcher.py:4: DeprecationWarning: time.clock has been deprecated in Python 3.3 and will be removed from Python 3.8: use time.perf_counter or time.process_time instead\n",
      "  after removing the cwd from sys.path.\n",
      "/home/houseFly/anaconda3/lib/python3.7/site-packages/ipykernel_launcher.py:6: DeprecationWarning: time.clock has been deprecated in Python 3.3 and will be removed from Python 3.8: use time.perf_counter or time.process_time instead\n",
      "  \n",
      "/home/houseFly/anaconda3/lib/python3.7/site-packages/ipykernel_launcher.py:8: DeprecationWarning: time.clock has been deprecated in Python 3.3 and will be removed from Python 3.8: use time.perf_counter or time.process_time instead\n",
      "  \n",
      "/home/houseFly/anaconda3/lib/python3.7/site-packages/ipykernel_launcher.py:9: DeprecationWarning: time.clock has been deprecated in Python 3.3 and will be removed from Python 3.8: use time.perf_counter or time.process_time instead\n",
      "  if __name__ == '__main__':\n"
     ]
    }
   ],
   "source": [
    "#Search Random Queries\n",
    "\n",
    "arraySearch = []\n",
    "InitialTimeMongo7k = time.clock()\n",
    "for i in range(7000, 14000):\n",
    "    start = time.clock()\n",
    "    r.get(url=mongoURL +str(random.randint(7000, 14000)))\n",
    "    arraySearch.append((time.clock() - start)*1000)\n",
    "FinalTimeMongo7k = time.clock()"
   ]
  },
  {
   "cell_type": "code",
   "execution_count": 85,
   "metadata": {},
   "outputs": [
    {
     "name": "stdout",
     "output_type": "stream",
     "text": [
      "14.697000000012395\n",
      "1.9650000000410728\n",
      "7.389199000000717\n"
     ]
    }
   ],
   "source": [
    "max(arraySearch)\n",
    "print(max(arraySearch))\n",
    "print(min(arraySearch))\n",
    "print(statistics.mean(arraySearch))"
   ]
  },
  {
   "cell_type": "code",
   "execution_count": null,
   "metadata": {},
   "outputs": [],
   "source": [
    "./cloud_sql_proxy -instances=logical-light-261218:us-central1:postgres=tcp:5432 -credential_file=/home/houseFly/Downloads/logical-light-261218-77fce126729a.json &"
   ]
  },
  {
   "cell_type": "code",
   "execution_count": 91,
   "metadata": {},
   "outputs": [
    {
     "name": "stderr",
     "output_type": "stream",
     "text": [
      "/home/houseFly/anaconda3/lib/python3.7/site-packages/ipykernel_launcher.py:2: DeprecationWarning: time.clock has been deprecated in Python 3.3 and will be removed from Python 3.8: use time.perf_counter or time.process_time instead\n",
      "  \n",
      "/home/houseFly/anaconda3/lib/python3.7/site-packages/ipykernel_launcher.py:4: DeprecationWarning: time.clock has been deprecated in Python 3.3 and will be removed from Python 3.8: use time.perf_counter or time.process_time instead\n",
      "  after removing the cwd from sys.path.\n",
      "/home/houseFly/anaconda3/lib/python3.7/site-packages/ipykernel_launcher.py:6: DeprecationWarning: time.clock has been deprecated in Python 3.3 and will be removed from Python 3.8: use time.perf_counter or time.process_time instead\n",
      "  \n",
      "/home/houseFly/anaconda3/lib/python3.7/site-packages/ipykernel_launcher.py:7: DeprecationWarning: time.clock has been deprecated in Python 3.3 and will be removed from Python 3.8: use time.perf_counter or time.process_time instead\n",
      "  import sys\n"
     ]
    }
   ],
   "source": [
    "arrayDelete= []\n",
    "InitialTimeMongo7k = time.clock()\n",
    "for i in range(7000, 14000):\n",
    "    start = time.clock()\n",
    "    r.delete(url=\"http://localhost:5000/api/users/\" +str(random.randint(7000, 14000)))\n",
    "    arrayDelete.append((time.clock() - start)*1000)\n",
    "FinalTimeMongo7k = time.clock()"
   ]
  },
  {
   "cell_type": "code",
   "execution_count": 92,
   "metadata": {},
   "outputs": [
    {
     "name": "stdout",
     "output_type": "stream",
     "text": [
      "7000\n",
      "14.494999999953961\n",
      "1.8880000000081054\n",
      "5.977615857143503\n"
     ]
    }
   ],
   "source": [
    "print(len(arrayDelete))\n",
    "print(max(arrayDelete))\n",
    "print(min(arrayDelete))\n",
    "print(statistics.mean(arrayDelete))"
   ]
  }
 ],
 "metadata": {
  "kernelspec": {
   "display_name": "Python 3",
   "language": "python",
   "name": "python3"
  },
  "language_info": {
   "codemirror_mode": {
    "name": "ipython",
    "version": 3
   },
   "file_extension": ".py",
   "mimetype": "text/x-python",
   "name": "python",
   "nbconvert_exporter": "python",
   "pygments_lexer": "ipython3",
   "version": "3.7.3"
  }
 },
 "nbformat": 4,
 "nbformat_minor": 2
}
